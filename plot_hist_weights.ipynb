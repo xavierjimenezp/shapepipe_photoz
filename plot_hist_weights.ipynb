{
 "cells": [
  {
   "cell_type": "markdown",
   "metadata": {},
   "source": [
    "# Plot histograms and weights\n",
    "\n",
    "Plot histograms of r-band magnitudes for CFIS in W3 field:\n",
    "- unmatched catalogue\n",
    "- matched with DEEP2+3\n",
    "- weights = ratio of matched to unmatched density"
   ]
  },
  {
   "cell_type": "code",
   "execution_count": null,
   "metadata": {},
   "outputs": [],
   "source": [
    "import os\n",
    "import sys\n",
    "\n",
    "from functions import *\n",
    "import params_ps3pi_cfis as params"
   ]
  },
  {
   "cell_type": "code",
   "execution_count": null,
   "metadata": {},
   "outputs": [],
   "source": [
    "path = f\"{os.environ['CONDA_PREFIX']}/../shapepipe/lib/python3.8/site-packages/shapepipe-0.0.2-py3.8.egg\"\n",
    "sys.path.append(path)\n",
    "from shapepipe.utilities.canfar import download"
   ]
  },
  {
   "cell_type": "markdown",
   "metadata": {},
   "source": [
    "## Set up paths and parameters"
   ]
  },
  {
   "cell_type": "code",
   "execution_count": null,
   "metadata": {},
   "outputs": [],
   "source": [
    "path = os.getcwd() + '/'\n",
    "bands = params.bands\n",
    "output_path = params.output_path\n",
    "output_name = params.output_name\n",
    "temp_path = params.temp_path\n",
    "\n",
    "spectral_path = params.spectral_path\n",
    "spectral_names = params.spectral_names\n",
    "spectral_surveys = params.spectral_surveys\n",
    "\n",
    "cat = MakeCatalogs('ps3pi_cfis', bands, temp_path, output_name, output_path)\n",
    "\n",
    "matched_cat_name = 'CFIS_matched_deep_2_3_catalog_R_preprocessed.csv'\n",
    "unmatched_cat_name = 'MediumDeep_IZG_CFHT_U_CFIS_R_catalog_unmatched.csv'\n",
    "\n",
    "cat_dir = './catalogs/'"
   ]
  },
  {
   "cell_type": "markdown",
   "metadata": {},
   "source": [
    "## Get input catalogue(s)"
   ]
  },
  {
   "cell_type": "code",
   "execution_count": null,
   "metadata": {},
   "outputs": [],
   "source": [
    "vos_dir = 'vos:cfis/cosmostat/catalogues/multi_band_matched/W3_deep23'\n",
    "for name in [matched_cat_name, unmatched_cat_name]:\n",
    "    download(f'{vos_dir}/{name}', f'{cat_dir}/{name}', verbose=True)"
   ]
  },
  {
   "cell_type": "code",
   "execution_count": null,
   "metadata": {
    "tags": []
   },
   "outputs": [],
   "source": [
    "df_matched = pd.read_csv(f'{cat_dir}/{matched_cat_name}')\n",
    "df_matched = df_matched.dropna()"
   ]
  },
  {
   "cell_type": "code",
   "execution_count": null,
   "metadata": {},
   "outputs": [],
   "source": [
    "df_unmatched = pd.read_csv(f'{cat_dir}/{unmatched_cat_name}')"
   ]
  },
  {
   "cell_type": "markdown",
   "metadata": {},
   "source": [
    "## Weights\n",
    "\n",
    "Account for the difference in numbers between matched and unmatched catalogue, by introducing weights.\n",
    "Here, this difference is only considered in the $r$-band magnitude number density. The weight is the ratio\n",
    "of objects between the full (unmatched) and matched catalogues."
   ]
  },
  {
   "cell_type": "markdown",
   "metadata": {},
   "source": [
    "### Compute weights`"
   ]
  },
  {
   "cell_type": "code",
   "execution_count": null,
   "metadata": {
    "tags": []
   },
   "outputs": [],
   "source": [
    "# Number of bins\n",
    "n = 100\n",
    "\n",
    "# band\n",
    "column = 'r'\n",
    "\n",
    "# density (histogram) of full (unmatched) catalogue\n",
    "udensity, ubins_edge = np.histogram(df_unmatched[column].values, bins=n, density=True)\n",
    "ubin_min = ubins_edge[0]\n",
    "ubin_max = ubins_edge[-1]\n",
    "ustep = (ubin_max - ubin_min)/n\n",
    "\n",
    "# density (histogram) of matched catalogue\n",
    "density, bins_edge = np.histogram(df_matched[column].values, bins=n, density=True)\n",
    "bin_min = bins_edge[0]\n",
    "bin_max = bins_edge[-1]\n",
    "step = (bin_max - bin_min)/n\n",
    "\n",
    "ID = np.arange(0, len(df_matched))\n",
    "df_matched.insert(loc=0, value=ID, column='ID')\n",
    "df_matched.sort_values(by=column, inplace=True)\n",
    "\n",
    "weights, uweights = [], []\n",
    "n_min = 0\n",
    "n_umin = 0\n",
    "h1, h2 = [], []\n",
    "for i in range(len(df_matched)):\n",
    "    for k in range(n_min, n):\n",
    "        if bin_min+step*(k+1) < df_matched[column].values[i]:\n",
    "            continue\n",
    "        else:\n",
    "            weights.append(density[k])\n",
    "            n_min = k\n",
    "            h1.append(df_matched[column].values[i])\n",
    "            break \n",
    "        \n",
    "    for k in range(n_umin, n):\n",
    "        if ubin_min+ustep*(k+1) < df_matched[column].values[i]:\n",
    "            continue\n",
    "        else:\n",
    "            uweights.append(udensity[k])\n",
    "            n_umin = k\n",
    "            h2.append(df_matched[column].values[i])\n",
    "        \n",
    "        break \n",
    "  \n",
    "# Final weight = ratio of densities\n",
    "w = np.array(uweights) / np.array(weights)"
   ]
  },
  {
   "cell_type": "markdown",
   "metadata": {},
   "source": [
    "### Plot number densities and corresponding weight"
   ]
  },
  {
   "cell_type": "code",
   "execution_count": null,
   "metadata": {
    "tags": []
   },
   "outputs": [],
   "source": [
    "fontsize = 18\n",
    "linewidth = 2\n",
    "\n",
    "fig = plt.figure(figsize=(8, 6), tight_layout=False)\n",
    "\n",
    "ax1 = fig.add_subplot(111)\n",
    "ax2 = ax1.twinx()\n",
    "ax3 = ax2.twiny()\n",
    "ax1.get_shared_x_axes().join(ax2, ax3)\n",
    "ax2.set_ylabel('normalized frequency', fontsize=fontsize)\n",
    "\n",
    "ax1.set_facecolor('white')\n",
    "ax1.set_xlabel(r'$r$', fontsize=fontsize)\n",
    "ax1.set_ylabel('weight', fontsize=fontsize)\n",
    "\n",
    "ax1.plot(df_matched[column].to_numpy(), w, label='weight', lw=linewidth, color='r')\n",
    "ax1.axhline(1, color='k', linestyle='--')\n",
    "\n",
    "ax2.plot(h1, np.array(weights), linestyle='dotted', linewidth=linewidth, color='grey',\n",
    "         alpha=0.8, label='matched')\n",
    "ax3.fill_between(h1, np.array(weights), color='grey', alpha=0.5)\n",
    "\n",
    "ax2.plot(h2, np.array(uweights), linestyle='dashed', linewidth=linewidth, color='k',\n",
    "         alpha=0.8, label='full')\n",
    "ax3.fill_between(h2, np.array(uweights), color='grey', alpha=0.5)\n",
    "\n",
    "# Remove ticks on second x-axis\n",
    "plt.xticks([])\n",
    "\n",
    "legend = ax2.legend(loc='upper left', shadow=True, fontsize='x-large')\n",
    "legend = ax1.legend(loc=(0.02,0.7), shadow=True, fontsize='x-large')\n",
    "\n",
    "# order\n",
    "ax3.zorder = 1 # fills in back\n",
    "ax1.zorder = 2 # then the line\n",
    "ax2.zorder = 3 # then the points\n",
    "ax1.patch.set_visible(False)\n",
    "\n",
    "plt.savefig('mag_weight_dist_deep23.pdf', bbox_inches='tight', transparent=True)\n",
    "plt.show()"
   ]
  },
  {
   "cell_type": "code",
   "execution_count": null,
   "metadata": {},
   "outputs": [],
   "source": []
  }
 ],
 "metadata": {
  "kernelspec": {
   "display_name": "Python 3",
   "language": "python",
   "name": "python3"
  },
  "language_info": {
   "codemirror_mode": {
    "name": "ipython",
    "version": 3
   },
   "file_extension": ".py",
   "mimetype": "text/x-python",
   "name": "python",
   "nbconvert_exporter": "python",
   "pygments_lexer": "ipython3",
   "version": "3.8.5"
  }
 },
 "nbformat": 4,
 "nbformat_minor": 2
}
