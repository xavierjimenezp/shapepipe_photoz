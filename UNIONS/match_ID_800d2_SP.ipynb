{
 "cells": [
  {
   "cell_type": "markdown",
   "id": "5c34aa09",
   "metadata": {},
   "source": [
    "# Matched UNIONS 800 deg^2 + ShapePipe shear catalogue\n",
    "Need to join using CFIS_ID."
   ]
  },
  {
   "cell_type": "code",
   "execution_count": null,
   "id": "680e2500",
   "metadata": {},
   "outputs": [],
   "source": [
    "import os\n",
    "import numpy as np\n",
    "import math\n",
    "\n",
    "import pandas as pd\n",
    "import matplotlib.pylab as plt\n",
    "\n",
    "from astropy.io import fits\n",
    "from astropy.coordinates import SkyCoord, match_coordinates_sky\n",
    "import astropy.units as units\n",
    "\n",
    "from collections import Counter\n",
    "\n",
    "from functions import *\n",
    "\n",
    "%matplotlib inline"
   ]
  },
  {
   "cell_type": "markdown",
   "id": "3dd6dd2f",
   "metadata": {},
   "source": [
    "### Read matched ShapePipe shear catalogue"
   ]
  },
  {
   "cell_type": "code",
   "execution_count": null,
   "id": "12523389",
   "metadata": {},
   "outputs": [],
   "source": [
    "base_name_sp = 'shape_catalog_extended_ngmix'\n",
    "\n",
    "hdu = fits.open(f'sp_output/{base_name_sp}.fits')\n",
    "\n",
    "data = hdu[1].data"
   ]
  },
  {
   "cell_type": "code",
   "execution_count": null,
   "id": "4a82b36b",
   "metadata": {},
   "outputs": [],
   "source": [
    "# Print column names\n",
    "data_keys = data.dtype.names\n",
    "print(data_keys)"
   ]
  },
  {
   "cell_type": "markdown",
   "id": "73b141d5",
   "metadata": {},
   "source": [
    "## Plots"
   ]
  },
  {
   "cell_type": "markdown",
   "id": "575c2c7c",
   "metadata": {},
   "source": [
    "### Spatial distribution"
   ]
  },
  {
   "cell_type": "code",
   "execution_count": null,
   "id": "f280d701",
   "metadata": {},
   "outputs": [],
   "source": [
    "plt.plot(data['RA'], data['Dec'], '.')\n",
    "plt.title('UNIONS-800 deg$^2$ + ShapePipe galaxies')\n",
    "plt.xlabel('RA [deg]')\n",
    "_ = plt.ylabel('DEC [deg]')"
   ]
  },
  {
   "cell_type": "code",
   "execution_count": null,
   "id": "d0e01bc8",
   "metadata": {},
   "outputs": [],
   "source": [
    "def millify(n):\n",
    "    \"\"\"Millify\n",
    "\n",
    "    Return human-readible names of large numbers\n",
    "\n",
    "    Parameters\n",
    "    ----------\n",
    "    n : int\n",
    "        input number\n",
    "\n",
    "    Returns\n",
    "    -------\n",
    "    s : string\n",
    "        output name\n",
    "    \"\"\"\n",
    "\n",
    "    millnames = ['',' Thousand',' Million',' Billion',' Trillion']\n",
    "\n",
    "    n = float(n)\n",
    "    millidx = max(\n",
    "        0,\n",
    "        min(\n",
    "            len(millnames) - 1,\n",
    "            int(math.floor(0 if n == 0 else math.log10(abs(n)) / 3))\n",
    "        )\n",
    "    )\n",
    "\n",
    "    return '{:.0f}{}'.format(n / 10**(3 * millidx), millnames[millidx])\n"
   ]
  },
  {
   "cell_type": "code",
   "execution_count": null,
   "id": "42cfd332",
   "metadata": {},
   "outputs": [],
   "source": [
    "ngal = len(data)\n",
    "print(f'Number of galaxies = {ngal} = {millify(ngal)}')"
   ]
  },
  {
   "cell_type": "markdown",
   "id": "8096ff82",
   "metadata": {},
   "source": [
    "### Magnitude distribution (r-band)"
   ]
  },
  {
   "cell_type": "code",
   "execution_count": null,
   "id": "0230b898",
   "metadata": {},
   "outputs": [],
   "source": [
    "fig, (ax) = plt.subplots(1, 1)\n",
    "\n",
    "range = (19.8, 25.5)\n",
    "\n",
    "h = ax.hist(data['mag'], bins=100, density=True, range=range)\n",
    "plt.title('UNIONS-800 deg$^2$ + SP')\n",
    "plt.xlabel('$r$ (ShapePipe)')\n",
    "plt.xticks(ticks=[20, 21, 22, 23, 24, 25])\n",
    "_ = plt.ylabel('frequency')"
   ]
  },
  {
   "cell_type": "markdown",
   "id": "8a067935",
   "metadata": {},
   "source": [
    "### Read multi-band UNIONS catalogue"
   ]
  },
  {
   "cell_type": "code",
   "execution_count": null,
   "id": "fe6824fb",
   "metadata": {},
   "outputs": [],
   "source": [
    "# UNIONS\n",
    "\n",
    "data_dir = f'{os.environ[\"HOME\"]}/astro/data/CFIS/800deg2'\n",
    "\n",
    "# Full catalogue\n",
    "base_name_ph = 'unions.ugriz2'\n",
    "\n",
    "# Smaller catalogue\n",
    "#base_name_ph = 'unions.ugriz_1M'\n",
    "\n",
    "cat_ph = pd.read_csv(f'{data_dir}/{base_name_ph}.tsv', delimiter='\\s+')"
   ]
  },
  {
   "cell_type": "code",
   "execution_count": null,
   "id": "a0fbdf98",
   "metadata": {},
   "outputs": [],
   "source": [
    "print('Keys in UNIONS catalogue:')\n",
    "mb_keys = cat_ph.keys()\n",
    "print(mb_keys)\n",
    "print(f'Number of UNIONS objects = {len(cat_ph)}')"
   ]
  },
  {
   "cell_type": "markdown",
   "id": "dc8e2f9a",
   "metadata": {},
   "source": [
    "### Match the two catalogues acording to the CFIS galaxy ID"
   ]
  },
  {
   "cell_type": "code",
   "execution_count": null,
   "id": "329b2313",
   "metadata": {},
   "outputs": [],
   "source": [
    "# Transform IDs back to int\n",
    "cfis_id = data['CFIS_ID'].astype(int)"
   ]
  },
  {
   "cell_type": "code",
   "execution_count": null,
   "id": "d4f271b0",
   "metadata": {},
   "outputs": [],
   "source": [
    "# Get indices of matches\n",
    "xy, x_ind, y_ind = np.intersect1d(cfis_id, cat_ph['CFIS_ID'], return_indices=True)"
   ]
  },
  {
   "cell_type": "code",
   "execution_count": null,
   "id": "e97839c3",
   "metadata": {},
   "outputs": [],
   "source": [
    "# Check\n",
    "print(cfis_id[x_ind][:10])\n",
    "print(cat_ph['CFIS_ID'][y_ind][:10])"
   ]
  },
  {
   "cell_type": "code",
   "execution_count": null,
   "id": "2b51475b",
   "metadata": {},
   "outputs": [],
   "source": [
    "len(cat_ph['CFIS_ID'][y_ind])"
   ]
  },
  {
   "cell_type": "code",
   "execution_count": null,
   "id": "7a7e5024",
   "metadata": {},
   "outputs": [],
   "source": [
    "len(data)"
   ]
  },
  {
   "cell_type": "code",
   "execution_count": null,
   "id": "5ff5f8c7",
   "metadata": {},
   "outputs": [],
   "source": [
    "# Create column array for SP catalogue\n",
    "cols = []\n",
    "for key in data_keys:\n",
    "    print(key)\n",
    "    if key != 'CFIS_ID':\n",
    "        c = fits.Column(name=key, format='D', array=data[x_ind][key])\n",
    "    else:\n",
    "        dat = cfis_id\n",
    "        c = fits.Column(name=key, format='I64', array=dat[x_ind])\n",
    "    cols.append(c)"
   ]
  },
  {
   "cell_type": "code",
   "execution_count": null,
   "id": "1fc80add",
   "metadata": {},
   "outputs": [],
   "source": [
    "# Append columns from multi-band catalogue\n",
    "for idx, key in enumerate(mb_keys):\n",
    "    if key in ['RA', 'Dec']:\n",
    "        # Coordinates in the matched MB+SP catalogue are exactly the same,\n",
    "        # so we don't need them again\n",
    "        continue\n",
    "    elif key == 'CFIS_ID':\n",
    "        # Add mb CFIS_ID for consistency check later\n",
    "        key2 = f'{key}_mb'\n",
    "    else:\n",
    "        key2 = key\n",
    "    print(key2)\n",
    "    c = fits.Column(name=key2, format=cat_ph.dtypes[idx], array=cat_ph[key][y_ind])\n",
    "    cols.append(c)"
   ]
  },
  {
   "cell_type": "code",
   "execution_count": null,
   "id": "dbba6664",
   "metadata": {},
   "outputs": [],
   "source": [
    "out_name = 'cfis_800d2_SP_v1.0.fits'\n",
    "hdu_out = fits.BinTableHDU.from_columns(cols)\n",
    "hdu_out.writeto(out_name)"
   ]
  },
  {
   "cell_type": "code",
   "execution_count": null,
   "id": "032f6464",
   "metadata": {},
   "outputs": [],
   "source": [
    "print('Saved FITS file f{out_name}')"
   ]
  }
 ],
 "metadata": {
  "kernelspec": {
   "display_name": "Python 3",
   "language": "python",
   "name": "python3"
  },
  "language_info": {
   "codemirror_mode": {
    "name": "ipython",
    "version": 3
   },
   "file_extension": ".py",
   "mimetype": "text/x-python",
   "name": "python",
   "nbconvert_exporter": "python",
   "pygments_lexer": "ipython3",
   "version": "3.7.7"
  }
 },
 "nbformat": 4,
 "nbformat_minor": 5
}
